{
 "cells": [
  {
   "cell_type": "code",
   "execution_count": 5,
   "id": "8ec88f6a",
   "metadata": {},
   "outputs": [],
   "source": [
    "import numpy as np\n",
    "import pandas as pd\n",
    "import matplotlib.pyplot as plt\n",
    "import seaborn as sns\n",
    "%matplotlib inline"
   ]
  },
  {
   "cell_type": "code",
   "execution_count": 7,
   "id": "059a4f06",
   "metadata": {},
   "outputs": [],
   "source": [
    "auto = pd.read_csv('covid19ind.csv')"
   ]
  },
  {
   "cell_type": "code",
   "execution_count": 8,
   "id": "a6d16958",
   "metadata": {},
   "outputs": [
    {
     "data": {
      "text/html": [
       "<div>\n",
       "<style scoped>\n",
       "    .dataframe tbody tr th:only-of-type {\n",
       "        vertical-align: middle;\n",
       "    }\n",
       "\n",
       "    .dataframe tbody tr th {\n",
       "        vertical-align: top;\n",
       "    }\n",
       "\n",
       "    .dataframe thead th {\n",
       "        text-align: right;\n",
       "    }\n",
       "</style>\n",
       "<table border=\"1\" class=\"dataframe\">\n",
       "  <thead>\n",
       "    <tr style=\"text-align: right;\">\n",
       "      <th></th>\n",
       "      <th>State/UTs</th>\n",
       "      <th>Total Cases</th>\n",
       "      <th>Active</th>\n",
       "      <th>Discharged</th>\n",
       "      <th>Deaths</th>\n",
       "      <th>Active Ratio</th>\n",
       "      <th>Discharge Ratio</th>\n",
       "      <th>Death Ratio</th>\n",
       "      <th>Population</th>\n",
       "    </tr>\n",
       "  </thead>\n",
       "  <tbody>\n",
       "    <tr>\n",
       "      <th>0</th>\n",
       "      <td>Andaman and Nicobar</td>\n",
       "      <td>10502</td>\n",
       "      <td>40</td>\n",
       "      <td>10333</td>\n",
       "      <td>129</td>\n",
       "      <td>0.38</td>\n",
       "      <td>98.39</td>\n",
       "      <td>1.23</td>\n",
       "      <td>100896618</td>\n",
       "    </tr>\n",
       "    <tr>\n",
       "      <th>1</th>\n",
       "      <td>Andhra Pradesh</td>\n",
       "      <td>2333710</td>\n",
       "      <td>1453</td>\n",
       "      <td>2317524</td>\n",
       "      <td>14733</td>\n",
       "      <td>0.06</td>\n",
       "      <td>99.31</td>\n",
       "      <td>0.63</td>\n",
       "      <td>128500364</td>\n",
       "    </tr>\n",
       "    <tr>\n",
       "      <th>2</th>\n",
       "      <td>Arunachal Pradesh</td>\n",
       "      <td>66246</td>\n",
       "      <td>295</td>\n",
       "      <td>65655</td>\n",
       "      <td>296</td>\n",
       "      <td>0.45</td>\n",
       "      <td>99.11</td>\n",
       "      <td>0.45</td>\n",
       "      <td>658019</td>\n",
       "    </tr>\n",
       "    <tr>\n",
       "      <th>3</th>\n",
       "      <td>Assam</td>\n",
       "      <td>741541</td>\n",
       "      <td>4006</td>\n",
       "      <td>729513</td>\n",
       "      <td>8022</td>\n",
       "      <td>0.54</td>\n",
       "      <td>98.38</td>\n",
       "      <td>1.08</td>\n",
       "      <td>290492</td>\n",
       "    </tr>\n",
       "    <tr>\n",
       "      <th>4</th>\n",
       "      <td>Bihar</td>\n",
       "      <td>844997</td>\n",
       "      <td>1024</td>\n",
       "      <td>831688</td>\n",
       "      <td>12285</td>\n",
       "      <td>0.12</td>\n",
       "      <td>98.42</td>\n",
       "      <td>1.45</td>\n",
       "      <td>40100376</td>\n",
       "    </tr>\n",
       "    <tr>\n",
       "      <th>5</th>\n",
       "      <td>Chandigarh</td>\n",
       "      <td>97442</td>\n",
       "      <td>772</td>\n",
       "      <td>95499</td>\n",
       "      <td>1171</td>\n",
       "      <td>0.79</td>\n",
       "      <td>98.01</td>\n",
       "      <td>1.20</td>\n",
       "      <td>30501026</td>\n",
       "    </tr>\n",
       "    <tr>\n",
       "      <th>6</th>\n",
       "      <td>Chhattisgarh</td>\n",
       "      <td>1169532</td>\n",
       "      <td>3282</td>\n",
       "      <td>1152169</td>\n",
       "      <td>14081</td>\n",
       "      <td>0.28</td>\n",
       "      <td>98.52</td>\n",
       "      <td>1.20</td>\n",
       "      <td>28900667</td>\n",
       "    </tr>\n",
       "    <tr>\n",
       "      <th>7</th>\n",
       "      <td>Dadra and Nagar Haveli and Daman and Diu</td>\n",
       "      <td>11557</td>\n",
       "      <td>23</td>\n",
       "      <td>11530</td>\n",
       "      <td>4</td>\n",
       "      <td>0.20</td>\n",
       "      <td>99.77</td>\n",
       "      <td>0.03</td>\n",
       "      <td>231502578</td>\n",
       "    </tr>\n",
       "    <tr>\n",
       "      <th>8</th>\n",
       "      <td>Delhi</td>\n",
       "      <td>1970899</td>\n",
       "      <td>7484</td>\n",
       "      <td>1937079</td>\n",
       "      <td>26336</td>\n",
       "      <td>0.38</td>\n",
       "      <td>98.28</td>\n",
       "      <td>1.34</td>\n",
       "      <td>773997</td>\n",
       "    </tr>\n",
       "    <tr>\n",
       "      <th>9</th>\n",
       "      <td>Goa</td>\n",
       "      <td>253162</td>\n",
       "      <td>1046</td>\n",
       "      <td>248261</td>\n",
       "      <td>3855</td>\n",
       "      <td>0.41</td>\n",
       "      <td>98.06</td>\n",
       "      <td>1.52</td>\n",
       "      <td>3772103</td>\n",
       "    </tr>\n",
       "  </tbody>\n",
       "</table>\n",
       "</div>"
      ],
      "text/plain": [
       "                                  State/UTs  Total Cases  Active  Discharged  \\\n",
       "0                       Andaman and Nicobar        10502      40       10333   \n",
       "1                            Andhra Pradesh      2333710    1453     2317524   \n",
       "2                         Arunachal Pradesh        66246     295       65655   \n",
       "3                                     Assam       741541    4006      729513   \n",
       "4                                     Bihar       844997    1024      831688   \n",
       "5                                Chandigarh        97442     772       95499   \n",
       "6                              Chhattisgarh      1169532    3282     1152169   \n",
       "7  Dadra and Nagar Haveli and Daman and Diu        11557      23       11530   \n",
       "8                                     Delhi      1970899    7484     1937079   \n",
       "9                                       Goa       253162    1046      248261   \n",
       "\n",
       "   Deaths  Active Ratio  Discharge Ratio  Death Ratio  Population  \n",
       "0     129          0.38            98.39         1.23   100896618  \n",
       "1   14733          0.06            99.31         0.63   128500364  \n",
       "2     296          0.45            99.11         0.45      658019  \n",
       "3    8022          0.54            98.38         1.08      290492  \n",
       "4   12285          0.12            98.42         1.45    40100376  \n",
       "5    1171          0.79            98.01         1.20    30501026  \n",
       "6   14081          0.28            98.52         1.20    28900667  \n",
       "7       4          0.20            99.77         0.03   231502578  \n",
       "8   26336          0.38            98.28         1.34      773997  \n",
       "9    3855          0.41            98.06         1.52     3772103  "
      ]
     },
     "execution_count": 8,
     "metadata": {},
     "output_type": "execute_result"
    }
   ],
   "source": [
    "auto.head(10)"
   ]
  },
  {
   "cell_type": "code",
   "execution_count": 10,
   "id": "8851a088",
   "metadata": {},
   "outputs": [
    {
     "data": {
      "text/plain": [
       "(36, 9)"
      ]
     },
     "execution_count": 10,
     "metadata": {},
     "output_type": "execute_result"
    }
   ],
   "source": [
    "auto.shape"
   ]
  },
  {
   "cell_type": "code",
   "execution_count": 11,
   "id": "60e3e755",
   "metadata": {},
   "outputs": [
    {
     "data": {
      "text/plain": [
       "<bound method DataFrame.info of                                    State/UTs  Total Cases  Active  Discharged  \\\n",
       "0                        Andaman and Nicobar        10502      40       10333   \n",
       "1                             Andhra Pradesh      2333710    1453     2317524   \n",
       "2                          Arunachal Pradesh        66246     295       65655   \n",
       "3                                      Assam       741541    4006      729513   \n",
       "4                                      Bihar       844997    1024      831688   \n",
       "5                                 Chandigarh        97442     772       95499   \n",
       "6                               Chhattisgarh      1169532    3282     1152169   \n",
       "7   Dadra and Nagar Haveli and Daman and Diu        11557      23       11530   \n",
       "8                                      Delhi      1970899    7484     1937079   \n",
       "9                                        Goa       253162    1046      248261   \n",
       "10                                   Gujarat      1261922    5862     1245080   \n",
       "11                                   Haryana      1036795    4598     1021547   \n",
       "12                          Himachal Pradesh       305383    4919      296287   \n",
       "13                         Jammu and Kashmir       470201    5045      460380   \n",
       "14                                 Jharkhand       441010     837      434845   \n",
       "15                                 Karnataka      4021106   11252     3969691   \n",
       "16                                    Kerala      6730762   10179     6650001   \n",
       "17                                    Ladakh        29021     118       28675   \n",
       "18                               Lakshadweep        11415       0       11363   \n",
       "19                            Madhya Pradesh      1051447    1349     1039336   \n",
       "20                               Maharashtra      8060737   11968     7900626   \n",
       "21                                   Manipur       139377     244      136995   \n",
       "22                                 Meghalaya        95925     686       93628   \n",
       "23                                   Mizoram       234387    1214      232461   \n",
       "24                                  Nagaland        35838      54       35012   \n",
       "25                                    Odisha      1319527    5851     1304527   \n",
       "26                                Puducherry       171651     640      169044   \n",
       "27                                    Punjab       777362   12429      747101   \n",
       "28                                 Rajasthan      1297814    3813     1284411   \n",
       "29                                    Sikkim        42784     476       41834   \n",
       "30                                Tamil Nadu      3553670    9408     3506229   \n",
       "31                                 Telengana       826284    5667      816506   \n",
       "32                                   Tripura       107419     653      105831   \n",
       "33                             Uttar Pradesh      2108686    5440     2079670   \n",
       "34                               Uttarakhand       445106    2378      435009   \n",
       "35                               West Bengal      2099433    7302     2070731   \n",
       "\n",
       "    Deaths  Active Ratio  Discharge Ratio  Death Ratio  Population  \n",
       "0      129          0.38            98.39         1.23   100896618  \n",
       "1    14733          0.06            99.31         0.63   128500364  \n",
       "2      296          0.45            99.11         0.45      658019  \n",
       "3     8022          0.54            98.38         1.08      290492  \n",
       "4    12285          0.12            98.42         1.45    40100376  \n",
       "5     1171          0.79            98.01         1.20    30501026  \n",
       "6    14081          0.28            98.52         1.20    28900667  \n",
       "7        4          0.20            99.77         0.03   231502578  \n",
       "8    26336          0.38            98.28         1.34      773997  \n",
       "9     3855          0.41            98.06         1.52     3772103  \n",
       "10   10980          0.46            98.67         0.87    70400153  \n",
       "11   10650          0.44            98.53         1.03    14999397  \n",
       "12    4177          1.61            97.02         1.37     3436948  \n",
       "13    4776          1.07            97.91         1.02       66001  \n",
       "14    5328          0.19            98.60         1.21   124904071  \n",
       "15   40163          0.28            98.72         1.00     1711947  \n",
       "16   70582          0.15            98.80         1.05    91702478  \n",
       "17     228          0.41            98.81         0.79     4184959  \n",
       "18      52          0.00            99.54         0.46    11700099  \n",
       "19   10762          0.13            98.85         1.02     7503010  \n",
       "20  148143          0.15            98.01         1.84      399001  \n",
       "21    2138          0.18            98.29         1.53    47099270  \n",
       "22    1611          0.72            97.61         1.68    79502477  \n",
       "23     712          0.52            99.18         0.30     1308967  \n",
       "24     772          0.15            97.70         2.15    38157311  \n",
       "25    9149          0.44            98.86         0.69    19301096  \n",
       "26    1967          0.37            98.48         1.15     2073074  \n",
       "27   17832          1.60            96.11         2.29    34698876  \n",
       "28    9590          0.29            98.97         0.74     1521992  \n",
       "29     474          1.11            97.78         1.11    83697770  \n",
       "30   38033          0.26            98.67         1.07    35998752  \n",
       "31    4111          0.69            98.82         0.50    69599762  \n",
       "32     935          0.61            98.52         0.87     1646050  \n",
       "33   23576          0.26            98.62         1.12     1158040  \n",
       "34    7719          0.53            97.73         1.73    85002417  \n",
       "35   21400          0.35            98.63         1.02    32199722  >"
      ]
     },
     "execution_count": 11,
     "metadata": {},
     "output_type": "execute_result"
    }
   ],
   "source": [
    "auto.info"
   ]
  },
  {
   "cell_type": "code",
   "execution_count": 19,
   "id": "ac80af43",
   "metadata": {},
   "outputs": [
    {
     "name": "stderr",
     "output_type": "stream",
     "text": [
      "C:\\Users\\madhv\\AppData\\Local\\Programs\\Python\\Python310\\lib\\site-packages\\seaborn\\distributions.py:2619: FutureWarning: `distplot` is a deprecated function and will be removed in a future version. Please adapt your code to use either `displot` (a figure-level function with similar flexibility) or `histplot` (an axes-level function for histograms).\n",
      "  warnings.warn(msg, FutureWarning)\n"
     ]
    },
    {
     "data": {
      "text/plain": [
       "<AxesSubplot:xlabel='Active Ratio', ylabel='Density'>"
      ]
     },
     "execution_count": 19,
     "metadata": {},
     "output_type": "execute_result"
    },
    {
     "data": {
      "image/png": "[encoded data removed]",
      "text/plain": [
       "<Figure size 432x288 with 1 Axes>"
      ]
     },
     "metadata": {
      "needs_background": "light"
     },
     "output_type": "display_data"
    }
   ],
   "source": [
    "sns.distplot(auto['Active Ratio'])"
   ]
  },
  {
   "cell_type": "code",
   "execution_count": 20,
   "id": "9263a555",
   "metadata": {},
   "outputs": [
    {
     "name": "stderr",
     "output_type": "stream",
     "text": [
      "C:\\Users\\madhv\\AppData\\Local\\Programs\\Python\\Python310\\lib\\site-packages\\seaborn\\_decorators.py:36: FutureWarning: Pass the following variables as keyword args: x, y. From version 0.12, the only valid positional argument will be `data`, and passing other arguments without an explicit keyword will result in an error or misinterpretation.\n",
      "  warnings.warn(\n"
     ]
    },
    {
     "data": {
      "text/plain": [
       "<seaborn.axisgrid.JointGrid at 0x2611e3f6980>"
      ]
     },
     "execution_count": 20,
     "metadata": {},
     "output_type": "execute_result"
    },
    {
     "data": {
      "image/png": "[encoded data removed]",
      "text/plain": [
       "<Figure size 432x432 with 3 Axes>"
      ]
     },
     "metadata": {
      "needs_background": "light"
     },
     "output_type": "display_data"
    }
   ],
   "source": [
    "sns.jointplot(auto['Active Ratio'], auto['Death Ratio'])"
   ]
  },
  {
   "cell_type": "code",
   "execution_count": 21,
   "id": "47911561",
   "metadata": {},
   "outputs": [],
   "source": [
    "auto= pd.concat([auto[:5]])"
   ]
  },
  {
   "cell_type": "code",
   "execution_count": 23,
   "id": "59df1163",
   "metadata": {},
   "outputs": [
    {
     "data": {
      "text/html": [
       "<div>\n",
       "<style scoped>\n",
       "    .dataframe tbody tr th:only-of-type {\n",
       "        vertical-align: middle;\n",
       "    }\n",
       "\n",
       "    .dataframe tbody tr th {\n",
       "        vertical-align: top;\n",
       "    }\n",
       "\n",
       "    .dataframe thead th {\n",
       "        text-align: right;\n",
       "    }\n",
       "</style>\n",
       "<table border=\"1\" class=\"dataframe\">\n",
       "  <thead>\n",
       "    <tr style=\"text-align: right;\">\n",
       "      <th></th>\n",
       "      <th>State/UTs</th>\n",
       "      <th>Total Cases</th>\n",
       "      <th>Active</th>\n",
       "      <th>Discharged</th>\n",
       "      <th>Deaths</th>\n",
       "      <th>Active Ratio</th>\n",
       "      <th>Discharge Ratio</th>\n",
       "      <th>Death Ratio</th>\n",
       "      <th>Population</th>\n",
       "    </tr>\n",
       "  </thead>\n",
       "  <tbody>\n",
       "    <tr>\n",
       "      <th>0</th>\n",
       "      <td>Andaman and Nicobar</td>\n",
       "      <td>10502</td>\n",
       "      <td>40</td>\n",
       "      <td>10333</td>\n",
       "      <td>129</td>\n",
       "      <td>0.38</td>\n",
       "      <td>98.39</td>\n",
       "      <td>1.23</td>\n",
       "      <td>100896618</td>\n",
       "    </tr>\n",
       "    <tr>\n",
       "      <th>1</th>\n",
       "      <td>Andhra Pradesh</td>\n",
       "      <td>2333710</td>\n",
       "      <td>1453</td>\n",
       "      <td>2317524</td>\n",
       "      <td>14733</td>\n",
       "      <td>0.06</td>\n",
       "      <td>99.31</td>\n",
       "      <td>0.63</td>\n",
       "      <td>128500364</td>\n",
       "    </tr>\n",
       "    <tr>\n",
       "      <th>2</th>\n",
       "      <td>Arunachal Pradesh</td>\n",
       "      <td>66246</td>\n",
       "      <td>295</td>\n",
       "      <td>65655</td>\n",
       "      <td>296</td>\n",
       "      <td>0.45</td>\n",
       "      <td>99.11</td>\n",
       "      <td>0.45</td>\n",
       "      <td>658019</td>\n",
       "    </tr>\n",
       "    <tr>\n",
       "      <th>3</th>\n",
       "      <td>Assam</td>\n",
       "      <td>741541</td>\n",
       "      <td>4006</td>\n",
       "      <td>729513</td>\n",
       "      <td>8022</td>\n",
       "      <td>0.54</td>\n",
       "      <td>98.38</td>\n",
       "      <td>1.08</td>\n",
       "      <td>290492</td>\n",
       "    </tr>\n",
       "    <tr>\n",
       "      <th>4</th>\n",
       "      <td>Bihar</td>\n",
       "      <td>844997</td>\n",
       "      <td>1024</td>\n",
       "      <td>831688</td>\n",
       "      <td>12285</td>\n",
       "      <td>0.12</td>\n",
       "      <td>98.42</td>\n",
       "      <td>1.45</td>\n",
       "      <td>40100376</td>\n",
       "    </tr>\n",
       "  </tbody>\n",
       "</table>\n",
       "</div>"
      ],
      "text/plain": [
       "             State/UTs  Total Cases  Active  Discharged  Deaths  Active Ratio  \\\n",
       "0  Andaman and Nicobar        10502      40       10333     129          0.38   \n",
       "1       Andhra Pradesh      2333710    1453     2317524   14733          0.06   \n",
       "2    Arunachal Pradesh        66246     295       65655     296          0.45   \n",
       "3                Assam       741541    4006      729513    8022          0.54   \n",
       "4                Bihar       844997    1024      831688   12285          0.12   \n",
       "\n",
       "   Discharge Ratio  Death Ratio  Population  \n",
       "0            98.39         1.23   100896618  \n",
       "1            99.31         0.63   128500364  \n",
       "2            99.11         0.45      658019  \n",
       "3            98.38         1.08      290492  \n",
       "4            98.42         1.45    40100376  "
      ]
     },
     "execution_count": 23,
     "metadata": {},
     "output_type": "execute_result"
    }
   ],
   "source": [
    "auto.head(10)"
   ]
  },
  {
   "cell_type": "code",
   "execution_count": 31,
   "id": "f987cf43",
   "metadata": {},
   "outputs": [
    {
     "name": "stderr",
     "output_type": "stream",
     "text": [
      "C:\\Users\\madhv\\AppData\\Local\\Programs\\Python\\Python310\\lib\\site-packages\\seaborn\\_decorators.py:36: FutureWarning: Pass the following variables as keyword args: x, y. From version 0.12, the only valid positional argument will be `data`, and passing other arguments without an explicit keyword will result in an error or misinterpretation.\n",
      "  warnings.warn(\n"
     ]
    },
    {
     "data": {
      "text/plain": [
       "<AxesSubplot:xlabel='State/UTs', ylabel='Active Ratio'>"
      ]
     },
     "execution_count": 31,
     "metadata": {},
     "output_type": "execute_result"
    },
    {
     "data": {
      "image/png": "[encoded data removed]",
      "text/plain": [
       "<Figure size 432x288 with 1 Axes>"
      ]
     },
     "metadata": {
      "needs_background": "light"
     },
     "output_type": "display_data"
    }
   ],
   "source": [
    "sns.pointplot(auto['State/UTs'], auto['Active Ratio'])"
   ]
  },
  {
   "cell_type": "markdown",
   "id": "4207da01",
   "metadata": {},
   "source": [
    "In Andaman and Nicobar,Himachal pradesh , Assam cases are active so you have reach people in these cities"
   ]
  },
  {
   "cell_type": "code",
   "execution_count": 32,
   "id": "05fcb5e8",
   "metadata": {},
   "outputs": [],
   "source": [
    "auto = pd.read_csv('covid19ind.csv')"
   ]
  },
  {
   "cell_type": "code",
   "execution_count": 33,
   "id": "3e7f94b7",
   "metadata": {},
   "outputs": [
    {
     "data": {
      "text/plain": [
       "(36, 9)"
      ]
     },
     "execution_count": 33,
     "metadata": {},
     "output_type": "execute_result"
    }
   ],
   "source": [
    "auto.shape"
   ]
  },
  {
   "cell_type": "code",
   "execution_count": 34,
   "id": "880a7425",
   "metadata": {},
   "outputs": [
    {
     "data": {
      "text/html": [
       "<div>\n",
       "<style scoped>\n",
       "    .dataframe tbody tr th:only-of-type {\n",
       "        vertical-align: middle;\n",
       "    }\n",
       "\n",
       "    .dataframe tbody tr th {\n",
       "        vertical-align: top;\n",
       "    }\n",
       "\n",
       "    .dataframe thead th {\n",
       "        text-align: right;\n",
       "    }\n",
       "</style>\n",
       "<table border=\"1\" class=\"dataframe\">\n",
       "  <thead>\n",
       "    <tr style=\"text-align: right;\">\n",
       "      <th></th>\n",
       "      <th>State/UTs</th>\n",
       "      <th>Total Cases</th>\n",
       "      <th>Active</th>\n",
       "      <th>Discharged</th>\n",
       "      <th>Deaths</th>\n",
       "      <th>Active Ratio</th>\n",
       "      <th>Discharge Ratio</th>\n",
       "      <th>Death Ratio</th>\n",
       "      <th>Population</th>\n",
       "    </tr>\n",
       "  </thead>\n",
       "  <tbody>\n",
       "    <tr>\n",
       "      <th>0</th>\n",
       "      <td>Andaman and Nicobar</td>\n",
       "      <td>10502</td>\n",
       "      <td>40</td>\n",
       "      <td>10333</td>\n",
       "      <td>129</td>\n",
       "      <td>0.38</td>\n",
       "      <td>98.39</td>\n",
       "      <td>1.23</td>\n",
       "      <td>100896618</td>\n",
       "    </tr>\n",
       "    <tr>\n",
       "      <th>1</th>\n",
       "      <td>Andhra Pradesh</td>\n",
       "      <td>2333710</td>\n",
       "      <td>1453</td>\n",
       "      <td>2317524</td>\n",
       "      <td>14733</td>\n",
       "      <td>0.06</td>\n",
       "      <td>99.31</td>\n",
       "      <td>0.63</td>\n",
       "      <td>128500364</td>\n",
       "    </tr>\n",
       "    <tr>\n",
       "      <th>2</th>\n",
       "      <td>Arunachal Pradesh</td>\n",
       "      <td>66246</td>\n",
       "      <td>295</td>\n",
       "      <td>65655</td>\n",
       "      <td>296</td>\n",
       "      <td>0.45</td>\n",
       "      <td>99.11</td>\n",
       "      <td>0.45</td>\n",
       "      <td>658019</td>\n",
       "    </tr>\n",
       "    <tr>\n",
       "      <th>3</th>\n",
       "      <td>Assam</td>\n",
       "      <td>741541</td>\n",
       "      <td>4006</td>\n",
       "      <td>729513</td>\n",
       "      <td>8022</td>\n",
       "      <td>0.54</td>\n",
       "      <td>98.38</td>\n",
       "      <td>1.08</td>\n",
       "      <td>290492</td>\n",
       "    </tr>\n",
       "    <tr>\n",
       "      <th>4</th>\n",
       "      <td>Bihar</td>\n",
       "      <td>844997</td>\n",
       "      <td>1024</td>\n",
       "      <td>831688</td>\n",
       "      <td>12285</td>\n",
       "      <td>0.12</td>\n",
       "      <td>98.42</td>\n",
       "      <td>1.45</td>\n",
       "      <td>40100376</td>\n",
       "    </tr>\n",
       "    <tr>\n",
       "      <th>5</th>\n",
       "      <td>Chandigarh</td>\n",
       "      <td>97442</td>\n",
       "      <td>772</td>\n",
       "      <td>95499</td>\n",
       "      <td>1171</td>\n",
       "      <td>0.79</td>\n",
       "      <td>98.01</td>\n",
       "      <td>1.20</td>\n",
       "      <td>30501026</td>\n",
       "    </tr>\n",
       "    <tr>\n",
       "      <th>6</th>\n",
       "      <td>Chhattisgarh</td>\n",
       "      <td>1169532</td>\n",
       "      <td>3282</td>\n",
       "      <td>1152169</td>\n",
       "      <td>14081</td>\n",
       "      <td>0.28</td>\n",
       "      <td>98.52</td>\n",
       "      <td>1.20</td>\n",
       "      <td>28900667</td>\n",
       "    </tr>\n",
       "    <tr>\n",
       "      <th>7</th>\n",
       "      <td>Dadra and Nagar Haveli and Daman and Diu</td>\n",
       "      <td>11557</td>\n",
       "      <td>23</td>\n",
       "      <td>11530</td>\n",
       "      <td>4</td>\n",
       "      <td>0.20</td>\n",
       "      <td>99.77</td>\n",
       "      <td>0.03</td>\n",
       "      <td>231502578</td>\n",
       "    </tr>\n",
       "    <tr>\n",
       "      <th>8</th>\n",
       "      <td>Delhi</td>\n",
       "      <td>1970899</td>\n",
       "      <td>7484</td>\n",
       "      <td>1937079</td>\n",
       "      <td>26336</td>\n",
       "      <td>0.38</td>\n",
       "      <td>98.28</td>\n",
       "      <td>1.34</td>\n",
       "      <td>773997</td>\n",
       "    </tr>\n",
       "    <tr>\n",
       "      <th>9</th>\n",
       "      <td>Goa</td>\n",
       "      <td>253162</td>\n",
       "      <td>1046</td>\n",
       "      <td>248261</td>\n",
       "      <td>3855</td>\n",
       "      <td>0.41</td>\n",
       "      <td>98.06</td>\n",
       "      <td>1.52</td>\n",
       "      <td>3772103</td>\n",
       "    </tr>\n",
       "    <tr>\n",
       "      <th>10</th>\n",
       "      <td>Gujarat</td>\n",
       "      <td>1261922</td>\n",
       "      <td>5862</td>\n",
       "      <td>1245080</td>\n",
       "      <td>10980</td>\n",
       "      <td>0.46</td>\n",
       "      <td>98.67</td>\n",
       "      <td>0.87</td>\n",
       "      <td>70400153</td>\n",
       "    </tr>\n",
       "  </tbody>\n",
       "</table>\n",
       "</div>"
      ],
      "text/plain": [
       "                                   State/UTs  Total Cases  Active  Discharged  \\\n",
       "0                        Andaman and Nicobar        10502      40       10333   \n",
       "1                             Andhra Pradesh      2333710    1453     2317524   \n",
       "2                          Arunachal Pradesh        66246     295       65655   \n",
       "3                                      Assam       741541    4006      729513   \n",
       "4                                      Bihar       844997    1024      831688   \n",
       "5                                 Chandigarh        97442     772       95499   \n",
       "6                               Chhattisgarh      1169532    3282     1152169   \n",
       "7   Dadra and Nagar Haveli and Daman and Diu        11557      23       11530   \n",
       "8                                      Delhi      1970899    7484     1937079   \n",
       "9                                        Goa       253162    1046      248261   \n",
       "10                                   Gujarat      1261922    5862     1245080   \n",
       "\n",
       "    Deaths  Active Ratio  Discharge Ratio  Death Ratio  Population  \n",
       "0      129          0.38            98.39         1.23   100896618  \n",
       "1    14733          0.06            99.31         0.63   128500364  \n",
       "2      296          0.45            99.11         0.45      658019  \n",
       "3     8022          0.54            98.38         1.08      290492  \n",
       "4    12285          0.12            98.42         1.45    40100376  \n",
       "5     1171          0.79            98.01         1.20    30501026  \n",
       "6    14081          0.28            98.52         1.20    28900667  \n",
       "7        4          0.20            99.77         0.03   231502578  \n",
       "8    26336          0.38            98.28         1.34      773997  \n",
       "9     3855          0.41            98.06         1.52     3772103  \n",
       "10   10980          0.46            98.67         0.87    70400153  "
      ]
     },
     "execution_count": 34,
     "metadata": {},
     "output_type": "execute_result"
    }
   ],
   "source": [
    "auto.head(11)"
   ]
  },
  {
   "cell_type": "code",
   "execution_count": 35,
   "id": "85724169",
   "metadata": {},
   "outputs": [
    {
     "data": {
      "text/plain": [
       "State/UTs          19\n",
       "Total Cases        19\n",
       "Active             19\n",
       "Discharged         19\n",
       "Deaths             19\n",
       "Active Ratio       19\n",
       "Discharge Ratio    19\n",
       "Death Ratio        19\n",
       "Population         19\n",
       "dtype: int64"
      ]
     },
     "execution_count": 35,
     "metadata": {},
     "output_type": "execute_result"
    }
   ],
   "source": [
    "auto[auto['Active Ratio']>0.37].count()"
   ]
  },
  {
   "cell_type": "markdown",
   "id": "11c0f4c9",
   "metadata": {},
   "source": [
    "Here, You can see that number of states and all entities are given above you can reach them to get your potential customer"
   ]
  },
  {
   "cell_type": "code",
   "execution_count": 36,
   "id": "612d7591",
   "metadata": {},
   "outputs": [
    {
     "data": {
      "text/html": [
       "<div>\n",
       "<style scoped>\n",
       "    .dataframe tbody tr th:only-of-type {\n",
       "        vertical-align: middle;\n",
       "    }\n",
       "\n",
       "    .dataframe tbody tr th {\n",
       "        vertical-align: top;\n",
       "    }\n",
       "\n",
       "    .dataframe thead th {\n",
       "        text-align: right;\n",
       "    }\n",
       "</style>\n",
       "<table border=\"1\" class=\"dataframe\">\n",
       "  <thead>\n",
       "    <tr style=\"text-align: right;\">\n",
       "      <th></th>\n",
       "      <th>State/UTs</th>\n",
       "      <th>Total Cases</th>\n",
       "      <th>Active</th>\n",
       "      <th>Discharged</th>\n",
       "      <th>Deaths</th>\n",
       "      <th>Active Ratio</th>\n",
       "      <th>Discharge Ratio</th>\n",
       "      <th>Death Ratio</th>\n",
       "      <th>Population</th>\n",
       "    </tr>\n",
       "  </thead>\n",
       "  <tbody>\n",
       "    <tr>\n",
       "      <th>12</th>\n",
       "      <td>Himachal Pradesh</td>\n",
       "      <td>305383</td>\n",
       "      <td>4919</td>\n",
       "      <td>296287</td>\n",
       "      <td>4177</td>\n",
       "      <td>1.61</td>\n",
       "      <td>97.02</td>\n",
       "      <td>1.37</td>\n",
       "      <td>3436948</td>\n",
       "    </tr>\n",
       "  </tbody>\n",
       "</table>\n",
       "</div>"
      ],
      "text/plain": [
       "           State/UTs  Total Cases  Active  Discharged  Deaths  Active Ratio  \\\n",
       "12  Himachal Pradesh       305383    4919      296287    4177          1.61   \n",
       "\n",
       "    Discharge Ratio  Death Ratio  Population  \n",
       "12            97.02         1.37     3436948  "
      ]
     },
     "execution_count": 36,
     "metadata": {},
     "output_type": "execute_result"
    }
   ],
   "source": [
    "auto[auto['Active Ratio']==auto['Active Ratio'].max()]"
   ]
  },
  {
   "cell_type": "markdown",
   "id": "7dc185ff",
   "metadata": {},
   "source": [
    "Himachal pradesh has highest active ratio of covid positives."
   ]
  },
  {
   "cell_type": "code",
   "execution_count": 37,
   "id": "e326fb9e",
   "metadata": {},
   "outputs": [
    {
     "data": {
      "text/html": [
       "<div>\n",
       "<style scoped>\n",
       "    .dataframe tbody tr th:only-of-type {\n",
       "        vertical-align: middle;\n",
       "    }\n",
       "\n",
       "    .dataframe tbody tr th {\n",
       "        vertical-align: top;\n",
       "    }\n",
       "\n",
       "    .dataframe thead th {\n",
       "        text-align: right;\n",
       "    }\n",
       "</style>\n",
       "<table border=\"1\" class=\"dataframe\">\n",
       "  <thead>\n",
       "    <tr style=\"text-align: right;\">\n",
       "      <th></th>\n",
       "      <th>State/UTs</th>\n",
       "      <th>Total Cases</th>\n",
       "      <th>Active</th>\n",
       "      <th>Discharged</th>\n",
       "      <th>Deaths</th>\n",
       "      <th>Active Ratio</th>\n",
       "      <th>Discharge Ratio</th>\n",
       "      <th>Death Ratio</th>\n",
       "      <th>Population</th>\n",
       "    </tr>\n",
       "  </thead>\n",
       "  <tbody>\n",
       "    <tr>\n",
       "      <th>7</th>\n",
       "      <td>Dadra and Nagar Haveli and Daman and Diu</td>\n",
       "      <td>11557</td>\n",
       "      <td>23</td>\n",
       "      <td>11530</td>\n",
       "      <td>4</td>\n",
       "      <td>0.2</td>\n",
       "      <td>99.77</td>\n",
       "      <td>0.03</td>\n",
       "      <td>231502578</td>\n",
       "    </tr>\n",
       "  </tbody>\n",
       "</table>\n",
       "</div>"
      ],
      "text/plain": [
       "                                  State/UTs  Total Cases  Active  Discharged  \\\n",
       "7  Dadra and Nagar Haveli and Daman and Diu        11557      23       11530   \n",
       "\n",
       "   Deaths  Active Ratio  Discharge Ratio  Death Ratio  Population  \n",
       "7       4           0.2            99.77         0.03   231502578  "
      ]
     },
     "execution_count": 37,
     "metadata": {},
     "output_type": "execute_result"
    }
   ],
   "source": [
    "auto[auto['Population']==auto['Population'].max()]"
   ]
  },
  {
   "cell_type": "markdown",
   "id": "1ac969fb",
   "metadata": {},
   "source": [
    "this state is highest in population so you may get your potential customers here \n",
    "\n"
   ]
  },
  {
   "cell_type": "code",
   "execution_count": 49,
   "id": "b3ed3a82",
   "metadata": {},
   "outputs": [
    {
     "data": {
      "text/plain": [
       "count       36.000000\n",
       "mean      3661.305556\n",
       "std       3786.588859\n",
       "min          0.000000\n",
       "25%        649.750000\n",
       "50%       1915.500000\n",
       "75%       5713.000000\n",
       "max      12429.000000\n",
       "Name: Active, dtype: float64"
      ]
     },
     "execution_count": 49,
     "metadata": {},
     "output_type": "execute_result"
    }
   ],
   "source": [
    "auto['Active'].describe()"
   ]
  },
  {
   "cell_type": "code",
   "execution_count": 52,
   "id": "d6ba98d0",
   "metadata": {},
   "outputs": [
    {
     "name": "stdout",
     "output_type": "stream",
     "text": [
      "<class 'pandas.core.frame.DataFrame'>\n",
      "Int64Index: 16 entries, 3 to 35\n",
      "Data columns (total 9 columns):\n",
      " #   Column           Non-Null Count  Dtype  \n",
      "---  ------           --------------  -----  \n",
      " 0   State/UTs        16 non-null     object \n",
      " 1   Total Cases      16 non-null     int64  \n",
      " 2   Active           16 non-null     int64  \n",
      " 3   Discharged       16 non-null     int64  \n",
      " 4   Deaths           16 non-null     int64  \n",
      " 5   Active Ratio     16 non-null     float64\n",
      " 6   Discharge Ratio  16 non-null     float64\n",
      " 7   Death Ratio      16 non-null     float64\n",
      " 8   Population       16 non-null     int64  \n",
      "dtypes: float64(3), int64(5), object(1)\n",
      "memory usage: 1.2+ KB\n"
     ]
    }
   ],
   "source": [
    "auto[auto['Active']>3661].info()"
   ]
  },
  {
   "cell_type": "markdown",
   "id": "46619910",
   "metadata": {},
   "source": [
    "Here, you can see the list of entities where cases are active more than the mean value.\n",
    "so, if you try to sell your products in these locations you will definitely find your potential customers."
   ]
  }
 ],
 "metadata": {
  "kernelspec": {
   "display_name": "Python 3 (ipykernel)",
   "language": "python",
   "name": "python3"
  },
  "language_info": {
   "codemirror_mode": {
    "name": "ipython",
    "version": 3
   },
   "file_extension": ".py",
   "mimetype": "text/x-python",
   "name": "python",
   "nbconvert_exporter": "python",
   "pygments_lexer": "ipython3",
   "version": "3.10.5"
  }
 },
 "nbformat": 4,
 "nbformat_minor": 5
}
